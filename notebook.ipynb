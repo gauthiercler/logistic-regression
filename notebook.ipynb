{
  "cells": [
    {
      "metadata": {
        "trusted": true
      },
      "cell_type": "code",
      "source": "import numpy as np\nimport h5py\nimport matplotlib.pyplot as plt",
      "execution_count": 6,
      "outputs": []
    },
    {
      "metadata": {
        "trusted": true
      },
      "cell_type": "code",
      "source": "train_dataset = h5py.File('datasets/train.h5', \"r\")\nX_train_raw = np.array(train_dataset[\"train_set_x\"][:])\ny_train_raw = np.array(train_dataset[\"train_set_y\"][:])\n\ntest_dataset = h5py.File('datasets/test.h5', \"r\")\nX_test_raw = np.array(test_dataset[\"test_set_x\"][:])\ny_test_raw = np.array(test_dataset[\"test_set_y\"][:])",
      "execution_count": 7,
      "outputs": []
    },
    {
      "metadata": {
        "trusted": true
      },
      "cell_type": "code",
      "source": "X_train = X_train_raw.reshape(X_train_raw.shape[0], -1).T / 255\nX_test = X_test_raw.reshape(X_test_raw.shape[0], -1).T / 255\n\ny_train = y_train_raw.reshape((1, y_train_raw.shape[0]))\ny_test = y_test_raw.reshape((1, y_test_raw.shape[0]))",
      "execution_count": 9,
      "outputs": []
    },
    {
      "metadata": {
        "trusted": true
      },
      "cell_type": "code",
      "source": "class LinearRegressor():\n    def __init__(self, learning_rate=0.5, num_iterations=2000):\n        self.learning_rate = learning_rate\n        self.num_iterations = num_iterations\n\n    def initialize(self, dim):\n        self.w = np.zeros((dim, 1))\n        self.b = 0\n        \n    def propagate(self, X, Y):\n        m = X.shape[1]\n    \n        A = self.sigmoid(np.dot(self.w.T, X) + self.b)\n\n        cost = -1 / m * np.sum((Y * np.log(A) + (1 - Y) * np.log(1 - A)))\n    \n        self.dw = 1 / m * np.dot(X, (A -  Y).T)\n        self.db = 1 / m * np.sum(A - Y)\n\n        cost = np.squeeze(cost)\n        return cost\n            \n    def optimize(self, X, y):\n        costs = []\n    \n        for i in range(self.num_iterations):\n                \n            cost = self.propagate(X, y)\n        \n            self.w = self.w - self.learning_rate * self.dw\n            self.b = self.b - self.learning_rate * self.db\n        \n            if i % 100 == 0:\n                costs.append(cost)\n            \n        return costs\n        \n    def sigmoid(self, z):\n        return 1 / (1  + np.exp(-z))\n\n    def fit(self, X, y):\n        self.initialize(X.shape[0])\n\n        self.costs = self.optimize(X, y)\n    \n        return self\n\n    def predict(self, X):\n        m = X.shape[1]\n        prediction = np.zeros((1, m))\n        self.w = self.w.reshape(X.shape[0], 1)\n    \n        A = self.sigmoid(np.dot(self.w.T, X) + self.b)\n        \n        for i in range(A.shape[1]):\n            if (A[0, i] >= 0.5):\n                prediction[0, i] = 1.0\n    \n        return prediction        ",
      "execution_count": 20,
      "outputs": []
    },
    {
      "metadata": {
        "trusted": true
      },
      "cell_type": "code",
      "source": "model = LinearRegressor(learning_rate=0.005)\n\nmodel.fit(X_train, y_train)\n\ny_prediction = model.predict(X_test)",
      "execution_count": 21,
      "outputs": []
    },
    {
      "metadata": {
        "trusted": true
      },
      "cell_type": "code",
      "source": "print(\"test accuracy: {} %\".format(100 - np.mean(np.abs(y_prediction - y_test)) * 100))",
      "execution_count": 22,
      "outputs": [
        {
          "output_type": "stream",
          "text": "test accuracy: 70.0 %\n",
          "name": "stdout"
        }
      ]
    },
    {
      "metadata": {
        "trusted": true
      },
      "cell_type": "code",
      "source": "plt.plot(model.costs)\nplt.ylabel('cost')\nplt.xlabel('iterations (x100)')\nplt.title('Learning rate ' + str(model.learning_rate))",
      "execution_count": 23,
      "outputs": [
        {
          "output_type": "execute_result",
          "execution_count": 23,
          "data": {
            "text/plain": "Text(0.5, 1.0, 'Learning rate 0.005')"
          },
          "metadata": {}
        },
        {
          "output_type": "display_data",
          "data": {
            "image/png": "[encoded data removed]",
            "text/plain": "<Figure size 432x288 with 1 Axes>"
          },
          "metadata": {
            "needs_background": "light"
          }
        }
      ]
    }
  ],
  "metadata": {
    "kernelspec": {
      "name": "python36",
      "display_name": "Python 3.6",
      "language": "python"
    },
    "language_info": {
      "mimetype": "text/x-python",
      "nbconvert_exporter": "python",
      "name": "python",
      "pygments_lexer": "ipython3",
      "version": "3.6.6",
      "file_extension": ".py",
      "codemirror_mode": {
        "version": 3,
        "name": "ipython"
      }
    }
  },
  "nbformat": 4,
  "nbformat_minor": 2
}
